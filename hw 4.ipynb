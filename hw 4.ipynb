{
 "cells": [
  {
   "cell_type": "markdown",
   "metadata": {},
   "source": [
    "## OR"
   ]
  },
  {
   "cell_type": "markdown",
   "metadata": {},
   "source": [
    "단층 perceptron을 이용하여 다음의 데이터를 분류하여라."
   ]
  },
  {
   "cell_type": "code",
   "execution_count": 36,
   "metadata": {},
   "outputs": [],
   "source": [
    "import numpy as np\n",
    "X = [[0,0],[1,0],[0,1],[1,1]] # input\n",
    "t = [0,1,1,1] # 실제값\n",
    "# y 예측값"
   ]
  },
  {
   "cell_type": "code",
   "execution_count": 37,
   "metadata": {},
   "outputs": [],
   "source": [
    "w, b=[0,0], 0\n",
    "eta = 0.1"
   ]
  },
  {
   "cell_type": "code",
   "execution_count": 38,
   "metadata": {},
   "outputs": [],
   "source": [
    "def perc(x):\n",
    "    f=np.dot(w,x)+b\n",
    "    if f>=0:\n",
    "        y=1\n",
    "    else:\n",
    "        y=0\n",
    "    return y"
   ]
  },
  {
   "cell_type": "code",
   "execution_count": 39,
   "metadata": {},
   "outputs": [
    {
     "data": {
      "text/plain": [
       "([0.1, 0.1], -0.1)"
      ]
     },
     "execution_count": 39,
     "metadata": {},
     "output_type": "execute_result"
    }
   ],
   "source": [
    "for n in range(1000):\n",
    "    for i in range(4):\n",
    "        error = t[i]- perc(X[i])\n",
    "        w[0] = w[0] + eta * error * X[i][0]\n",
    "        w[1] = w[1] + eta * error * X[i][1]\n",
    "        b = b + eta * error\n",
    "    \n",
    "w,b"
   ]
  },
  {
   "cell_type": "code",
   "execution_count": 40,
   "metadata": {},
   "outputs": [
    {
     "data": {
      "text/plain": [
       "(0, 1, 1, 1)"
      ]
     },
     "execution_count": 40,
     "metadata": {},
     "output_type": "execute_result"
    }
   ],
   "source": [
    "perc(X[0]),perc(X[1]),perc(X[2]),perc(X[3])"
   ]
  },
  {
   "cell_type": "markdown",
   "metadata": {},
   "source": [
    "## Iris classifications"
   ]
  },
  {
   "cell_type": "markdown",
   "metadata": {},
   "source": [
    "단층 perceptron을 이용하여 다음의 데이터를 분류하여라."
   ]
  },
  {
   "cell_type": "code",
   "execution_count": 41,
   "metadata": {},
   "outputs": [],
   "source": [
    "import numpy as np\n",
    "import matplotlib.pyplot as plt"
   ]
  },
  {
   "cell_type": "code",
   "execution_count": 42,
   "metadata": {},
   "outputs": [
    {
     "data": {
      "text/plain": [
       "['sepal length (cm)',\n",
       " 'sepal width (cm)',\n",
       " 'petal length (cm)',\n",
       " 'petal width (cm)']"
      ]
     },
     "execution_count": 42,
     "metadata": {},
     "output_type": "execute_result"
    }
   ],
   "source": [
    "from sklearn import datasets\n",
    "iris = datasets.load_iris() # 분꽃\n",
    "iris.target_names # 3종류의 분꽃 분류하기\n",
    "iris.feature_names # features"
   ]
  },
  {
   "cell_type": "code",
   "execution_count": 43,
   "metadata": {},
   "outputs": [],
   "source": [
    "X=iris.data # input data # the number of input nodes = 4"
   ]
  },
  {
   "cell_type": "code",
   "execution_count": 44,
   "metadata": {},
   "outputs": [
    {
     "data": {
      "text/plain": [
       "array(['setosa', 'versicolor', 'virginica'], dtype='<U10')"
      ]
     },
     "execution_count": 44,
     "metadata": {},
     "output_type": "execute_result"
    }
   ],
   "source": [
    "iris.target_names # setosa = 0, not setosa = 1"
   ]
  },
  {
   "cell_type": "code",
   "execution_count": 45,
   "metadata": {},
   "outputs": [],
   "source": [
    "y=np.where(iris.target>0,1,0) # 0(setosa) 과 1(setosa 외) 로 분류"
   ]
  },
  {
   "cell_type": "markdown",
   "metadata": {},
   "source": [
    "\n",
    "위의 데이터를 단층 perceptron을 이용하여 분류하는 신경망을 만들고 학습하여라.\n",
    "입력층의 노드는 바이어스를 제외하고 4개로 한다. 바이어스 1개를 포함 총 5개이다.\n",
    "출력층의 노드는 1개로 한다."
   ]
  },
  {
   "cell_type": "code",
   "execution_count": 46,
   "metadata": {},
   "outputs": [
    {
     "data": {
      "text/plain": [
       "((array([5.1, 3.5, 1.4, 0.2]),\n",
       "  array([4.9, 3. , 1.4, 0.2]),\n",
       "  array([4.7, 3.2, 1.3, 0.2]),\n",
       "  array([4.6, 3.1, 1.5, 0.2])),\n",
       " [0, 1, 1, 1])"
      ]
     },
     "execution_count": 46,
     "metadata": {},
     "output_type": "execute_result"
    }
   ],
   "source": [
    "x=(X[0],X[1],X[2],X[3])\n",
    "x,t"
   ]
  },
  {
   "cell_type": "code",
   "execution_count": 47,
   "metadata": {},
   "outputs": [
    {
     "data": {
      "text/plain": [
       "(1, 1, 1, 1, [0, 1, 1, 1])"
      ]
     },
     "execution_count": 47,
     "metadata": {},
     "output_type": "execute_result"
    }
   ],
   "source": [
    "w,b=[0,0,0,0],1\n",
    "eta=0.1\n",
    "perc(X[0]),perc(X[1]),perc(X[2]),perc(X[3]),t"
   ]
  },
  {
   "cell_type": "code",
   "execution_count": 48,
   "metadata": {},
   "outputs": [
    {
     "name": "stdout",
     "output_type": "stream",
     "text": [
      "-1\n",
      "0\n",
      "0\n",
      "0\n"
     ]
    }
   ],
   "source": [
    "for i in range(4):\n",
    "    error = t[i]-perc(X[i])\n",
    "    print(error)"
   ]
  },
  {
   "cell_type": "code",
   "execution_count": 49,
   "metadata": {},
   "outputs": [
    {
     "data": {
      "text/plain": [
       "([0.5100000000000007, -1.2900000000000011, 0.39, 0.06000000000000001],\n",
       " 1.3000000000000003)"
      ]
     },
     "execution_count": 49,
     "metadata": {},
     "output_type": "execute_result"
    }
   ],
   "source": [
    "for n in range(100):\n",
    "    error_sum=0\n",
    "    for i in range(4):\n",
    "        error = t[i]-perc(X[i])\n",
    "        error_sum=error_sum+abs(error)\n",
    "        \n",
    "        w[0]=w[0]+eta*error*X[i][0]\n",
    "        w[1]=w[1]+eta*error*X[i][1]\n",
    "        w[2]=w[2]+eta*error*X[i][2]\n",
    "        w[3]=w[3]+eta*error*X[i][3]\n",
    "        b=b+eta*error\n",
    "        \n",
    "    if(error_sum==0):\n",
    "        break\n",
    "        \n",
    "w,b"
   ]
  }
 ],
 "metadata": {
  "kernelspec": {
   "display_name": "Python 3",
   "language": "python",
   "name": "python3"
  },
  "language_info": {
   "codemirror_mode": {
    "name": "ipython",
    "version": 3
   },
   "file_extension": ".py",
   "mimetype": "text/x-python",
   "name": "python",
   "nbconvert_exporter": "python",
   "pygments_lexer": "ipython3",
   "version": "3.8.5"
  }
 },
 "nbformat": 4,
 "nbformat_minor": 4
}
