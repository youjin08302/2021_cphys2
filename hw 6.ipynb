{
  "nbformat": 4,
  "nbformat_minor": 0,
  "metadata": {
    "colab": {
      "name": "hw6.ipynb",
      "provenance": []
    },
    "kernelspec": {
      "name": "python3",
      "display_name": "Python 3"
    },
    "language_info": {
      "name": "python"
    }
  },
  "cells": [
    {
      "cell_type": "markdown",
      "metadata": {
        "id": "L4pvNR-7hCzY"
      },
      "source": [
        "##MNIST\n",
        "2개의 히든 레이어를 도입한다.\n",
        "input layer는 28*28개의 노드\n",
        "hidden layer의 노드의 수는 자유롭게 설정해도 좋다.\n",
        "output은 10개(0~9)로 설정한다.\n",
        "test data를 예측하여 정확도를 최대가 되도록 학습하여라.\n",
        "제출 시 test data의 정확도를 출력하여 제출하세요."
      ]
    },
    {
      "cell_type": "code",
      "metadata": {
        "id": "6Z7Gc45ihNhq"
      },
      "source": [
        "import numpy as np\n",
        "import matplotlib.pyplot as plt\n",
        "import torch\n",
        "import torchvision\n",
        "\n",
        "train_data = torchvision.datasets.MNIST(\n",
        "    root = 'data',\n",
        "    train = True,                         \n",
        "    transform = torchvision.transforms.ToTensor(), \n",
        "    download = True,            \n",
        ")\n",
        "test_data = torchvision.datasets.MNIST(\n",
        "    root = 'data', \n",
        "    train = False, \n",
        "    transform = torchvision.transforms.ToTensor()\n",
        ")"
      ],
      "execution_count": 18,
      "outputs": []
    },
    {
      "cell_type": "code",
      "metadata": {
        "colab": {
          "base_uri": "https://localhost:8080/"
        },
        "id": "7SneSrTUhQxR",
        "outputId": "dac99d9d-7718-42cd-9dde-3fbcc882c226"
      },
      "source": [
        "train_data"
      ],
      "execution_count": 19,
      "outputs": [
        {
          "output_type": "execute_result",
          "data": {
            "text/plain": [
              "Dataset MNIST\n",
              "    Number of datapoints: 60000\n",
              "    Root location: data\n",
              "    Split: Train\n",
              "    StandardTransform\n",
              "Transform: ToTensor()"
            ]
          },
          "metadata": {},
          "execution_count": 19
        }
      ]
    },
    {
      "cell_type": "code",
      "metadata": {
        "colab": {
          "base_uri": "https://localhost:8080/"
        },
        "id": "xvS36zFOhR_a",
        "outputId": "ac330d38-496f-43ee-dd6e-3d8aa4904cce"
      },
      "source": [
        "train_data.data.size()"
      ],
      "execution_count": 20,
      "outputs": [
        {
          "output_type": "execute_result",
          "data": {
            "text/plain": [
              "torch.Size([60000, 28, 28])"
            ]
          },
          "metadata": {},
          "execution_count": 20
        }
      ]
    },
    {
      "cell_type": "code",
      "metadata": {
        "colab": {
          "base_uri": "https://localhost:8080/",
          "height": 283
        },
        "id": "hRSCt_tWhWU7",
        "outputId": "c84aa6df-d546-4e01-c506-fcd7140fa359"
      },
      "source": [
        "import matplotlib.pyplot as plt\n",
        "\n",
        "plt.imshow(train_data.data[0])"
      ],
      "execution_count": 23,
      "outputs": [
        {
          "output_type": "execute_result",
          "data": {
            "text/plain": [
              "<matplotlib.image.AxesImage at 0x7fabcd24fa50>"
            ]
          },
          "metadata": {},
          "execution_count": 23
        },
        {
          "output_type": "display_data",
          "data": {
            "image/png": "[encoded data removed]",
            "text/plain": [
              "<Figure size 432x288 with 1 Axes>"
            ]
          },
          "metadata": {
            "needs_background": "light"
          }
        }
      ]
    },
    {
      "cell_type": "code",
      "metadata": {
        "colab": {
          "base_uri": "https://localhost:8080/"
        },
        "id": "rTilHgEgkEgE",
        "outputId": "084445f4-6bbb-4f56-ca2f-dac326f7d5e3"
      },
      "source": [
        "torch.flatten(train_data.data, start_dim=1)"
      ],
      "execution_count": 24,
      "outputs": [
        {
          "output_type": "execute_result",
          "data": {
            "text/plain": [
              "tensor([[0, 0, 0,  ..., 0, 0, 0],\n",
              "        [0, 0, 0,  ..., 0, 0, 0],\n",
              "        [0, 0, 0,  ..., 0, 0, 0],\n",
              "        ...,\n",
              "        [0, 0, 0,  ..., 0, 0, 0],\n",
              "        [0, 0, 0,  ..., 0, 0, 0],\n",
              "        [0, 0, 0,  ..., 0, 0, 0]], dtype=torch.uint8)"
            ]
          },
          "metadata": {},
          "execution_count": 24
        }
      ]
    },
    {
      "cell_type": "code",
      "metadata": {
        "colab": {
          "base_uri": "https://localhost:8080/"
        },
        "id": "ru6LoglSkeI5",
        "outputId": "8c5585bf-ca4f-437a-83c1-78f8ecd350c3"
      },
      "source": [
        "X=torch.flatten(train_data.data,start_dim=1).float()\n",
        "y=train_data.targets\n",
        "X=X/255 # 데이터를 0~1로 정규화\n",
        "X, y"
      ],
      "execution_count": 26,
      "outputs": [
        {
          "output_type": "execute_result",
          "data": {
            "text/plain": [
              "(tensor([[0., 0., 0.,  ..., 0., 0., 0.],\n",
              "         [0., 0., 0.,  ..., 0., 0., 0.],\n",
              "         [0., 0., 0.,  ..., 0., 0., 0.],\n",
              "         ...,\n",
              "         [0., 0., 0.,  ..., 0., 0., 0.],\n",
              "         [0., 0., 0.,  ..., 0., 0., 0.],\n",
              "         [0., 0., 0.,  ..., 0., 0., 0.]]), tensor([5, 0, 4,  ..., 5, 6, 8]))"
            ]
          },
          "metadata": {},
          "execution_count": 26
        }
      ]
    },
    {
      "cell_type": "code",
      "metadata": {
        "colab": {
          "base_uri": "https://localhost:8080/"
        },
        "id": "rixveFlnklD-",
        "outputId": "b35835b3-2beb-4f5d-8603-0dc041a2d652"
      },
      "source": [
        "input_size = 784\n",
        "hidden_sizes = [128, 64]\n",
        "output_size = 10\n",
        "\n",
        "model = torch.nn.Sequential(\n",
        "    torch.nn.Linear(input_size, hidden_sizes[0]),\n",
        "    torch.nn.ReLU(),\n",
        "    torch.nn.Linear(hidden_sizes[0], hidden_sizes[1]),\n",
        "    torch.nn.ReLU(),\n",
        "    torch.nn.Linear(hidden_sizes[1], output_size),\n",
        "    torch.nn.Softmax(dim=1)\n",
        ")\n",
        "print(model)"
      ],
      "execution_count": 27,
      "outputs": [
        {
          "output_type": "stream",
          "name": "stdout",
          "text": [
            "Sequential(\n",
            "  (0): Linear(in_features=784, out_features=128, bias=True)\n",
            "  (1): ReLU()\n",
            "  (2): Linear(in_features=128, out_features=64, bias=True)\n",
            "  (3): ReLU()\n",
            "  (4): Linear(in_features=64, out_features=10, bias=True)\n",
            "  (5): Softmax(dim=1)\n",
            ")\n"
          ]
        }
      ]
    },
    {
      "cell_type": "code",
      "metadata": {
        "colab": {
          "base_uri": "https://localhost:8080/"
        },
        "id": "mFIcQWhQkqqp",
        "outputId": "596ed92a-6ec8-41a3-ad74-6e7e74e288a9"
      },
      "source": [
        "correct = (model(X).max(1)[1] == y)\n",
        "accuracy = correct.sum()/y.size(0)\n",
        "accuracy"
      ],
      "execution_count": 11,
      "outputs": [
        {
          "output_type": "execute_result",
          "data": {
            "text/plain": [
              "tensor(0.1455)"
            ]
          },
          "metadata": {},
          "execution_count": 11
        }
      ]
    },
    {
      "cell_type": "code",
      "metadata": {
        "id": "0odSvAb5ks4Z"
      },
      "source": [
        "din, dh1, dh2, dout = 28*28,128,64,10\n",
        "model = torch.nn.Sequential(\n",
        "    torch.nn.Linear(din,dh1), # input - hidden1\n",
        "    torch.nn.ReLU(),         # activation function of hidden layer \n",
        "    torch.nn.Linear(dh1,dh2), # input - hidden1\n",
        "    torch.nn.ReLU(),         # activation function of hidden layer \n",
        "    torch.nn.Linear(dh2,dout), # hidden - out\n",
        "    torch.nn.Softmax(dim=1)\n",
        ")\n",
        "\n",
        "# loss and optimizer\n",
        "learning_rate = 0.001\n",
        "criterion = torch.nn.CrossEntropyLoss()\n",
        "optimizer = torch.optim.Adam(model.parameters(),lr=learning_rate)"
      ],
      "execution_count": 28,
      "outputs": []
    },
    {
      "cell_type": "code",
      "metadata": {
        "id": "iIMPtwSslJS1"
      },
      "source": [
        "nums_epoch = 101\n",
        "def train(model, criterion, optimizer, nums_epoch, X,y):\n",
        "    for epoch in range(nums_epoch):\n",
        "        y_pred = model(X)\n",
        "        loss = criterion(y_pred,y)\n",
        "        optimizer.zero_grad() # zero_grad(): 미분값 초기화\n",
        "        loss.backward() # backpropagation\n",
        "        optimizer.step() # update weights and biases\n",
        "        \n",
        "        if(epoch%10==0):\n",
        "            prediction = y_pred.max(1)[1] # max indices\n",
        "            corrects = (prediction == y)\n",
        "            accuracy = corrects.sum().float() / float( y.size(0) )\n",
        "            print(epoch, \"loss=\", loss.item(), \"accu=\", accuracy.item())"
      ],
      "execution_count": 29,
      "outputs": []
    },
    {
      "cell_type": "code",
      "metadata": {
        "colab": {
          "base_uri": "https://localhost:8080/"
        },
        "id": "5PIp5u1dlNjj",
        "outputId": "d6535b05-2e48-49ea-8b89-79544290c551"
      },
      "source": [
        "train(model,criterion, optimizer, nums_epoch, X, y);"
      ],
      "execution_count": 15,
      "outputs": [
        {
          "output_type": "stream",
          "name": "stdout",
          "text": [
            "0 loss= 2.3541195392608643 accu= 0.1017666682600975\n",
            "10 loss= 1.8880069255828857 accu= 0.5696666836738586\n",
            "20 loss= 1.7725263833999634 accu= 0.6870833039283752\n",
            "30 loss= 1.7194937467575073 accu= 0.7404166460037231\n",
            "40 loss= 1.7030593156814575 accu= 0.756850004196167\n",
            "50 loss= 1.692674994468689 accu= 0.7674333453178406\n",
            "60 loss= 1.6865606307983398 accu= 0.7736999988555908\n",
            "70 loss= 1.682666301727295 accu= 0.7772833108901978\n",
            "80 loss= 1.6795735359191895 accu= 0.7804666757583618\n",
            "90 loss= 1.6772348880767822 accu= 0.7824500203132629\n",
            "100 loss= 1.6752370595932007 accu= 0.7841333150863647\n"
          ]
        }
      ]
    },
    {
      "cell_type": "code",
      "metadata": {
        "id": "LR-IvupQlm73"
      },
      "source": [
        "din, dh1, dh2, dout = 28*28,128,64,10\n",
        "prob_drop = 0.4\n",
        "model_dilution = torch.nn.Sequential(\n",
        "    torch.nn.Linear(din,dh1), # input - hidden1\n",
        "    torch.nn.Dropout(p=prob_drop), # dropout\n",
        "    torch.nn.ReLU(),         # activation function of hidden layer\n",
        "    \n",
        "    torch.nn.Linear(dh1,dh2), # input - hidden1\n",
        "    torch.nn.Dropout(p=prob_drop),\n",
        "    torch.nn.ReLU(),         # activation function of hidden layer \n",
        "    \n",
        "    torch.nn.Linear(dh2,dout), # hidden - out\n",
        "    torch.nn.Softmax(dim=1)\n",
        ")\n",
        "\n",
        "# loss and optimizer\n",
        "learning_rate = 0.001\n",
        "criterion = torch.nn.CrossEntropyLoss()\n",
        "optimizer = torch.optim.Adam(model_dilution.parameters(),lr=learning_rate)"
      ],
      "execution_count": 30,
      "outputs": []
    },
    {
      "cell_type": "code",
      "metadata": {
        "colab": {
          "base_uri": "https://localhost:8080/"
        },
        "id": "avHhPVJolneV",
        "outputId": "ccbef28b-d375-44ce-890f-4ace0e4e0093"
      },
      "source": [
        "train(model_dilution, criterion, optimizer, nums_epoch, X, y) "
      ],
      "execution_count": 31,
      "outputs": [
        {
          "output_type": "stream",
          "name": "stdout",
          "text": [
            "0 loss= 2.302513599395752 accu= 0.1113833338022232\n",
            "10 loss= 2.2490859031677246 accu= 0.4059000015258789\n",
            "20 loss= 2.088721513748169 accu= 0.48625001311302185\n",
            "30 loss= 1.9458431005477905 accu= 0.5583166480064392\n",
            "40 loss= 1.8497886657714844 accu= 0.6567000150680542\n",
            "50 loss= 1.786133885383606 accu= 0.7022500038146973\n",
            "60 loss= 1.7440131902694702 accu= 0.744183361530304\n",
            "70 loss= 1.7117894887924194 accu= 0.770883321762085\n",
            "80 loss= 1.6812740564346313 accu= 0.8046166896820068\n",
            "90 loss= 1.6520662307739258 accu= 0.8351166844367981\n",
            "100 loss= 1.6297314167022705 accu= 0.8540666699409485\n"
          ]
        }
      ]
    },
    {
      "cell_type": "code",
      "metadata": {
        "id": "xs4iqWZIlp1r"
      },
      "source": [
        ""
      ],
      "execution_count": null,
      "outputs": []
    }
  ]
}