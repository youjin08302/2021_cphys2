{
 "cells": [
  {
   "cell_type": "code",
   "execution_count": 33,
   "metadata": {},
   "outputs": [],
   "source": [
    "%matplotlib inline\n",
    "import matplotlib.pyplot as plt\n",
    "import numpy as np\n",
    "import random"
   ]
  },
  {
   "cell_type": "markdown",
   "metadata": {},
   "source": [
    "## XOR\n",
    "하나의 히든 레이어를 도입한다.\n",
    "input layer는 2개의 노드 + 1개의 바이어스\n",
    "hidden layer는 3개의 노드 + 1개의 바이어스\n",
    "output은 하나의 노드로 한다."
   ]
  },
  {
   "cell_type": "code",
   "execution_count": 34,
   "metadata": {},
   "outputs": [],
   "source": [
    "X = [[0,0,1],[1,0,1],[0,1,1],[1,1,1]] # 세번째 항은 bias\n",
    "Y = [0,1,1,0]"
   ]
  },
  {
   "cell_type": "markdown",
   "metadata": {},
   "source": [
    "위의 데이터를 neural networks에서 backpropagation을 이용하여으로 학습시켜라."
   ]
  },
  {
   "cell_type": "code",
   "execution_count": 35,
   "metadata": {},
   "outputs": [
    {
     "data": {
      "text/plain": [
       "[[0, 0, 1], [1, 0, 1], [0, 1, 1], [1, 1, 1]]"
      ]
     },
     "execution_count": 35,
     "metadata": {},
     "output_type": "execute_result"
    }
   ],
   "source": [
    "def sigmoid(x):\n",
    "    y=1/(1+np.exp(-x))\n",
    "    return y\n",
    "X"
   ]
  },
  {
   "cell_type": "code",
   "execution_count": 36,
   "metadata": {},
   "outputs": [
    {
     "data": {
      "text/plain": [
       "(array([[-0.95119933, -0.18605609,  0.90805591],\n",
       "        [-0.75633762,  1.34993157,  1.14693086],\n",
       "        [-0.53036326,  1.39406156, -0.01320377],\n",
       "        [-0.34405892, -0.31873759,  0.12106184]]),\n",
       " array([-2.01424173, -0.42605909,  1.23284741,  1.27350959]))"
      ]
     },
     "execution_count": 36,
     "metadata": {},
     "output_type": "execute_result"
    }
   ],
   "source": [
    "w=np.random.randn(4,3)\n",
    "omega=np.random.randn(4,)\n",
    "w, omega"
   ]
  },
  {
   "cell_type": "code",
   "execution_count": 37,
   "metadata": {},
   "outputs": [
    {
     "data": {
      "text/plain": [
       "[<matplotlib.lines.Line2D at 0x2a7ffd2d7c0>]"
      ]
     },
     "execution_count": 37,
     "metadata": {},
     "output_type": "execute_result"
    },
    {
     "data": {
      "image/png": "[encoded data removed]",
      "text/plain": [
       "<Figure size 432x288 with 1 Axes>"
      ]
     },
     "metadata": {
      "needs_background": "light"
     },
     "output_type": "display_data"
    }
   ],
   "source": [
    "eta=1\n",
    "\n",
    "delta_hidden=[0,0,0,0]\n",
    "epochs=30\n",
    "error_sum=[]\n",
    "for epoch in range (epochs+1):\n",
    "    for n in range(1000):\n",
    "        E=0\n",
    "        for i in range(4):\n",
    "            neth = np.dot(w,X[i])\n",
    "            h=sigmoid(neth)\n",
    "            neto = np.dot(omega,h)\n",
    "            ohat = sigmoid(neto)\n",
    "            E = E + (ohat-Y[i])**2\n",
    "            delta_output = (ohat-Y[i]) * ohat * (1-ohat)\n",
    "            for j in range(4):\n",
    "                delta_hidden[j] = delta_output * omega[j] * sigmoid(neth[j]) * (1-sigmoid(neth[j]))\n",
    "                omega[j] = omega[j] - eta * delta_output * h[j]\n",
    "                for k in range(3):\n",
    "                    w[j][k] = w[j][k] - eta * delta_hidden[j] * X[i][k]\n",
    "    error_sum.append(E)\n",
    "plt.plot(error_sum)"
   ]
  },
  {
   "cell_type": "code",
   "execution_count": 38,
   "metadata": {},
   "outputs": [
    {
     "data": {
      "text/plain": [
       "(array([[-4.73494574, -4.25903383,  1.4965388 ],\n",
       "        [-5.48346701,  6.17548354,  2.58584457],\n",
       "        [-6.10505107,  5.40161685, -2.80562067],\n",
       "        [-1.9459854 , -2.69434424,  3.9593834 ]]),\n",
       " array([-5.8644882 , -8.16658407,  9.43395724,  6.58490142]))"
      ]
     },
     "execution_count": 38,
     "metadata": {},
     "output_type": "execute_result"
    }
   ],
   "source": [
    "w,omega"
   ]
  },
  {
   "cell_type": "code",
   "execution_count": 39,
   "metadata": {},
   "outputs": [
    {
     "data": {
      "text/plain": [
       "array([0.00455703, 0.99430363, 0.99550919, 0.0045589 ])"
      ]
     },
     "execution_count": 39,
     "metadata": {},
     "output_type": "execute_result"
    }
   ],
   "source": [
    "t=[]\n",
    "for i in range(4):\n",
    "    neth = np.dot(w,X[i])\n",
    "    h=sigmoid(neth)\n",
    "    neto = np.dot(omega,h)\n",
    "    ohat = sigmoid(neto)\n",
    "    t.append(ohat)\n",
    "np.array(t)"
   ]
  }
 ],
 "metadata": {
  "kernelspec": {
   "display_name": "Python 3",
   "language": "python",
   "name": "python3"
  },
  "language_info": {
   "codemirror_mode": {
    "name": "ipython",
    "version": 3
   },
   "file_extension": ".py",
   "mimetype": "text/x-python",
   "name": "python",
   "nbconvert_exporter": "python",
   "pygments_lexer": "ipython3",
   "version": "3.8.5"
  }
 },
 "nbformat": 4,
 "nbformat_minor": 4
}
